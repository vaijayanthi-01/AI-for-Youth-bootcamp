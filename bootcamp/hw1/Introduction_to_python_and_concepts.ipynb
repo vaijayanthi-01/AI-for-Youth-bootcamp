{
 "cells": [
  {
   "cell_type": "markdown",
   "id": "c0d267a7",
   "metadata": {
    "id": "c0d267a7"
   },
   "source": [
    "## Intro to print statements\n",
    "\n",
    "In Python, the print statement is used to output text to the screen. Python's print statement is a function that outputs information to the console (or wherever standard output is directed). The print function takes a variety of different arguments, which allows you to control how the information is printed and formatted. \n",
    "\n",
    "The print statement can take multiple arguments, which will be printed to the screen separated by spaces.\n",
    "\n",
    "Here is a simple example of how to use the print statement:\n"
   ]
  },
  {
   "cell_type": "code",
   "execution_count": 1,
   "id": "ee79bb8b",
   "metadata": {
    "colab": {
     "base_uri": "https://localhost:8080/"
    },
    "id": "ee79bb8b",
    "outputId": "f9bde895-1707-4ac8-f565-29b9999c9d49"
   },
   "outputs": [
    {
     "name": "stdout",
     "output_type": "stream",
     "text": [
      "Hello, world!\n"
     ]
    }
   ],
   "source": [
    "print(\"Hello, world!\")"
   ]
  },
  {
   "cell_type": "markdown",
   "id": "48bce2de",
   "metadata": {
    "id": "48bce2de"
   },
   "source": [
    "You can also use the print statement to print variables:\n"
   ]
  },
  {
   "cell_type": "code",
   "execution_count": 2,
   "id": "c0dd4e93",
   "metadata": {
    "colab": {
     "base_uri": "https://localhost:8080/"
    },
    "id": "c0dd4e93",
    "outputId": "03fec3a3-a96f-48eb-a651-e24880525b5e"
   },
   "outputs": [
    {
     "name": "stdout",
     "output_type": "stream",
     "text": [
      "Hello,  John\n"
     ]
    }
   ],
   "source": [
    "name = \"John\"\n",
    "\n",
    "print(\"Hello, \", name)"
   ]
  },
  {
   "cell_type": "markdown",
   "id": "95fb056f",
   "metadata": {
    "id": "95fb056f"
   },
   "source": [
    "## What are Conditional Statements"
   ]
  },
  {
   "cell_type": "markdown",
   "id": "36c4a354",
   "metadata": {
    "id": "36c4a354"
   },
   "source": [
    "* Decision-making is as important in any programming language as it is in life.\n",
    "* Decision-making in a programming language is automated using conditional statements, in which Python evaluates the code to see if it meets the specified conditions.\n",
    "* The conditions are evaluated and processed as true or false.\n",
    "* If this is found to be true, the program is run as needed. If the condition is found to be false, the statement following the If condition is executed."
   ]
  },
  {
   "cell_type": "markdown",
   "id": "c2356e6d",
   "metadata": {
    "id": "c2356e6d"
   },
   "source": [
    "### Python has various conditional statements that are used in decision-making:-"
   ]
  },
  {
   "cell_type": "markdown",
   "id": "f165395d",
   "metadata": {
    "id": "f165395d"
   },
   "source": [
    "#### 1.) If-Statement\n",
    "* The If statement is the most fundamental decision-making statement, in which the code is executed based on whether it meets the specified condition.\n",
    "* It has a code body that only executes if the condition in the if statement is true. The statement can be a single line or a block of code."
   ]
  },
  {
   "cell_type": "markdown",
   "id": "bae468c0",
   "metadata": {
    "id": "bae468c0"
   },
   "source": [
    "##### example - 1"
   ]
  },
  {
   "cell_type": "code",
   "execution_count": null,
   "id": "f9c6e828",
   "metadata": {
    "id": "f9c6e828",
    "outputId": "8620fdfe-2fb1-4768-d5e3-2f0ea1b72c76"
   },
   "outputs": [
    {
     "name": "stdout",
     "output_type": "stream",
     "text": [
      "5 is a positive number.\n",
      "This statement is true.\n"
     ]
    }
   ],
   "source": [
    "num = 5\n",
    "if num > 0:\n",
    "    print(num, \"is a positive number.\")\n",
    "print(\"This statement is true.\")\n"
   ]
  },
  {
   "cell_type": "markdown",
   "id": "0d897417",
   "metadata": {
    "id": "0d897417"
   },
   "source": [
    "##### example - 2 "
   ]
  },
  {
   "cell_type": "code",
   "execution_count": null,
   "id": "d3f1ff44",
   "metadata": {
    "id": "d3f1ff44",
    "outputId": "47a3c681-2ad2-4eb8-9724-a3e752f02ca6"
   },
   "outputs": [
    {
     "name": "stdout",
     "output_type": "stream",
     "text": [
      "b is greater than a\n"
     ]
    }
   ],
   "source": [
    "a = 25\n",
    "b = 170\n",
    "if b > a:\n",
    "  print(\"b is greater than a\")\n",
    "#output : b is greater than a"
   ]
  },
  {
   "cell_type": "markdown",
   "id": "9caca859",
   "metadata": {
    "id": "9caca859"
   },
   "source": [
    "##### Task\n"
   ]
  },
  {
   "cell_type": "markdown",
   "id": "95365f53",
   "metadata": {
    "id": "95365f53"
   },
   "source": [
    "* Take two numbers as input and determine which one of the two numbers is larger than the other?\n",
    "* Write a code to check whether a number is negative, positive or zero."
   ]
  },
  {
   "cell_type": "code",
   "execution_count": 1,
   "id": "8a6b0805",
   "metadata": {},
   "outputs": [
    {
     "name": "stdout",
     "output_type": "stream",
     "text": [
      "12\n",
      "3\n",
      "a is greater\n"
     ]
    }
   ],
   "source": [
    "a = int(input())\n",
    "b = int(input())\n",
    "if a > b:\n",
    "    print('a is greater')\n",
    "if a < b:\n",
    "    print('b is greater')\n",
    "if a == b:\n",
    "    print('a equal to b')"
   ]
  },
  {
   "cell_type": "code",
   "execution_count": 2,
   "id": "5d753351",
   "metadata": {},
   "outputs": [
    {
     "name": "stdout",
     "output_type": "stream",
     "text": [
      "-4\n",
      "Negative number\n"
     ]
    }
   ],
   "source": [
    "a = int(input())\n",
    "if a > 0:\n",
    "    print('Positive number')\n",
    "if a < 0:\n",
    "    print('Negative number')\n",
    "if a == 0:\n",
    "    print('Zero')"
   ]
  },
  {
   "cell_type": "markdown",
   "id": "6985381c",
   "metadata": {
    "id": "6985381c"
   },
   "source": [
    "#### 2.) If-Else Statement"
   ]
  },
  {
   "cell_type": "markdown",
   "id": "7dcd82fd",
   "metadata": {
    "id": "7dcd82fd"
   },
   "source": [
    "* This statement is used when both the true and false parts of a given condition are specified to be executed. \n",
    "* When the condition is true, the statement inside the if block is executed; \n",
    "* if the condition is false, the statement outside the if block is executed."
   ]
  },
  {
   "cell_type": "markdown",
   "id": "f41bcc0a",
   "metadata": {
    "id": "f41bcc0a"
   },
   "source": [
    "#### example"
   ]
  },
  {
   "cell_type": "code",
   "execution_count": null,
   "id": "4b6bdbda",
   "metadata": {
    "id": "4b6bdbda",
    "outputId": "c025acdc-a806-4953-e81b-e6a337658ad7"
   },
   "outputs": [
    {
     "name": "stdout",
     "output_type": "stream",
     "text": [
      "Positive or Zero\n"
     ]
    }
   ],
   "source": [
    "num = 5\n",
    "if num >= 0:\n",
    "    print(\"Positive or Zero\")\n",
    "else:\n",
    "     print(\"Negative number\")\n",
    "### output : Positive or Zero"
   ]
  },
  {
   "cell_type": "markdown",
   "id": "ae131d60",
   "metadata": {
    "id": "ae131d60"
   },
   "source": [
    "#### Task:"
   ]
  },
  {
   "cell_type": "markdown",
   "id": "5e5225f3",
   "metadata": {
    "id": "5e5225f3"
   },
   "source": [
    "* Take a = 33, b = 33 and then compare using the if- else statement"
   ]
  },
  {
   "cell_type": "code",
   "execution_count": 3,
   "id": "ccf7885f",
   "metadata": {},
   "outputs": [
    {
     "name": "stdout",
     "output_type": "stream",
     "text": [
      "a is greater than or equal to b\n"
     ]
    }
   ],
   "source": [
    "a = 33\n",
    "b = 33\n",
    "if a < b:\n",
    "    print('a is less than b')\n",
    "else:\n",
    "    print('a is greater than or equal to b')"
   ]
  },
  {
   "cell_type": "markdown",
   "id": "4254b8c7",
   "metadata": {
    "id": "4254b8c7"
   },
   "source": [
    "###### 3.) If…Elif..else Statement"
   ]
  },
  {
   "cell_type": "markdown",
   "id": "0ef7c4ef",
   "metadata": {
    "id": "0ef7c4ef"
   },
   "source": [
    "* In this case, the If condition is evaluated first. \n",
    "* If it is false, the Elif statement will be executed;\n",
    "* if it also comes false, the Else statement will be executed."
   ]
  },
  {
   "cell_type": "markdown",
   "id": "5f0e53c4",
   "metadata": {
    "id": "5f0e53c4"
   },
   "source": [
    "#### example"
   ]
  },
  {
   "cell_type": "code",
   "execution_count": null,
   "id": "b9e81b3a",
   "metadata": {
    "id": "b9e81b3a",
    "outputId": "b869fe99-1523-4bfa-b1b4-5289fa5ce92e"
   },
   "outputs": [
    {
     "name": "stdout",
     "output_type": "stream",
     "text": [
      "Positive number\n"
     ]
    }
   ],
   "source": [
    "num = 7\n",
    "if num > 0:\n",
    "    print(\"Positive number\")\n",
    "elif num == 0:\n",
    "    print(\"Zero\")\n",
    "else:\n",
    "    print(\"Negative number\")\n",
    "#output:  Positive number"
   ]
  },
  {
   "cell_type": "markdown",
   "id": "9a1b0eb4",
   "metadata": {
    "id": "9a1b0eb4"
   },
   "source": [
    "#### Task"
   ]
  },
  {
   "cell_type": "markdown",
   "id": "469dd517",
   "metadata": {
    "id": "469dd517"
   },
   "source": [
    "* Take an input,check whether it is less than, equal to or greater than 0."
   ]
  },
  {
   "cell_type": "code",
   "execution_count": 4,
   "id": "d12cd3fd",
   "metadata": {},
   "outputs": [
    {
     "name": "stdout",
     "output_type": "stream",
     "text": [
      "0\n",
      "Zero\n"
     ]
    }
   ],
   "source": [
    "a = int(input())\n",
    "if a > 0:\n",
    "    print('Positive number')\n",
    "elif a < 0:\n",
    "    print('Negative number')\n",
    "else:\n",
    "    print('Zero')"
   ]
  },
  {
   "cell_type": "markdown",
   "id": "17ac9863",
   "metadata": {
    "id": "17ac9863"
   },
   "source": [
    "#### 4.) Nested-If statement"
   ]
  },
  {
   "cell_type": "markdown",
   "id": "98e6357e",
   "metadata": {
    "id": "98e6357e"
   },
   "source": [
    "* A Nested IF statement is one in which an If statement is nestled inside another If statement. \n",
    "* This is used when a variable must be processed more than once.\n",
    "* If, If-else, and If…elif…else statements can be used in the program.\n",
    "* In Nested If statements, the indentation (whitespace at the beginning) to determine the scope of each statement should take precedence."
   ]
  },
  {
   "cell_type": "markdown",
   "id": "ce7ad9d6",
   "metadata": {
    "id": "ce7ad9d6"
   },
   "source": [
    "#### example"
   ]
  },
  {
   "cell_type": "code",
   "execution_count": null,
   "id": "886ff0ca",
   "metadata": {
    "id": "886ff0ca",
    "outputId": "da7348dd-168b-4119-daff-3ee79c4c92d6"
   },
   "outputs": [
    {
     "name": "stdout",
     "output_type": "stream",
     "text": [
      "Positive number\n"
     ]
    }
   ],
   "source": [
    "num = 8\n",
    "if num >= 0:\n",
    "    if num == 0:\n",
    "        print(\"zero\")\n",
    "    else:\n",
    "        print(\"Positive number\")\n",
    "else:\n",
    "    print(\"Negative number\")\n",
    "#output: Positive number"
   ]
  },
  {
   "cell_type": "markdown",
   "id": "32948b23",
   "metadata": {
    "id": "32948b23"
   },
   "source": [
    "#### Task"
   ]
  },
  {
   "cell_type": "markdown",
   "id": "3e84b1f2",
   "metadata": {
    "id": "3e84b1f2"
   },
   "source": [
    "* Take x=10,check whether it is greater than/less than 10 & 20 using nested if statements."
   ]
  },
  {
   "cell_type": "code",
   "execution_count": 5,
   "id": "78f7e181",
   "metadata": {},
   "outputs": [
    {
     "name": "stdout",
     "output_type": "stream",
     "text": [
      "x is less than or equal to 10 and less than 20\n"
     ]
    }
   ],
   "source": [
    "x = 10\n",
    "if x > 10:\n",
    "    if x < 20:\n",
    "        print('x is greater than 10 and less than 20')\n",
    "    else:\n",
    "        print('x is greater than 10 and greater than or equal to 20')\n",
    "else:\n",
    "    print('x is less than or equal to 10 and less than 20')"
   ]
  },
  {
   "cell_type": "markdown",
   "id": "cf2f8630",
   "metadata": {
    "id": "cf2f8630"
   },
   "source": [
    "### LOOPS"
   ]
  },
  {
   "cell_type": "markdown",
   "id": "63604092",
   "metadata": {
    "id": "63604092"
   },
   "source": [
    "* In a programming language, a loop is a statement that contains instructions that continually repeats until a certain condition is reached.\n",
    "* Loops help us remove the redundancy of code when a task has to be repeated several times. \n",
    "* With the use of loops, we can cut short those hundred lines of code to a few. \n",
    "* Suppose you want to print the text “Hello, World!” 10 times. \n",
    "* Rather than writing a print statement 10 times, you can make use of loops by indicating the number of repetitions needed."
   ]
  },
  {
   "cell_type": "markdown",
   "id": "2ab5d876",
   "metadata": {
    "id": "2ab5d876"
   },
   "source": [
    "### While Loop"
   ]
  },
  {
   "cell_type": "markdown",
   "id": "a93c7cd7",
   "metadata": {
    "id": "a93c7cd7"
   },
   "source": [
    "* It continually executes the statements(code) as long as the given condition is TRUE. \n",
    "* It first checks the condition and then jumps into the instructions."
   ]
  },
  {
   "cell_type": "code",
   "execution_count": null,
   "id": "d9368b5b",
   "metadata": {
    "id": "d9368b5b",
    "outputId": "551a9852-df90-4b1f-e710-ef81bca914a4"
   },
   "outputs": [
    {
     "name": "stdout",
     "output_type": "stream",
     "text": [
      "Hello, World!\n",
      "Hello, World!\n",
      "Hello, World!\n",
      "Hello, World!\n",
      "Hello, World!\n"
     ]
    }
   ],
   "source": [
    "num_of_times = 1\n",
    "\n",
    "while num_of_times <= 5:\n",
    "    print(\"Hello, World!\")\n",
    "    num_of_times += 1"
   ]
  },
  {
   "cell_type": "markdown",
   "id": "c6b4d087",
   "metadata": {
    "id": "c6b4d087"
   },
   "source": [
    "##### Task"
   ]
  },
  {
   "cell_type": "markdown",
   "id": "62626383",
   "metadata": {
    "id": "62626383"
   },
   "source": [
    "*  Create a list of all the even numbers between 1 and 10"
   ]
  },
  {
   "cell_type": "code",
   "execution_count": 6,
   "id": "a8bc58fe",
   "metadata": {},
   "outputs": [
    {
     "name": "stdout",
     "output_type": "stream",
     "text": [
      "[2, 4, 6, 8, 10]\n"
     ]
    }
   ],
   "source": [
    "even = []\n",
    "n = 1\n",
    "while n < 11:\n",
    "    if n%2 == 0:\n",
    "        even.append(n)\n",
    "    n += 1\n",
    "print(even)"
   ]
  },
  {
   "cell_type": "markdown",
   "id": "14160b7f",
   "metadata": {
    "id": "14160b7f"
   },
   "source": [
    "### For Loop"
   ]
  },
  {
   "cell_type": "markdown",
   "id": "49148503",
   "metadata": {
    "id": "49148503"
   },
   "source": [
    "* A for loop is used to iterate over a sequence like lists, type, dictionaries, sets, or even strings.\n",
    "* Loop statements will be executed for each item of the sequence."
   ]
  },
  {
   "cell_type": "markdown",
   "id": "abdf4d04",
   "metadata": {
    "id": "abdf4d04"
   },
   "source": [
    "#### example: Create a list of all the even numbers between 1 and 10"
   ]
  },
  {
   "cell_type": "code",
   "execution_count": null,
   "id": "42b4cee2",
   "metadata": {
    "id": "42b4cee2",
    "outputId": "ca80fcd3-acdc-4f35-ee96-7412e7dc53ff"
   },
   "outputs": [
    {
     "name": "stdout",
     "output_type": "stream",
     "text": [
      "Even Numbers:  [2, 4, 6, 8, 10]\n"
     ]
    }
   ],
   "source": [
    "even_nums = []\n",
    "for i in range(1, 11):\n",
    "    if i % 2 == 0:\n",
    "        even_nums.append(i)\n",
    "print(\"Even Numbers: \", even_nums)"
   ]
  },
  {
   "cell_type": "markdown",
   "id": "6c66cb90",
   "metadata": {
    "id": "6c66cb90"
   },
   "source": [
    "#### Task"
   ]
  },
  {
   "cell_type": "markdown",
   "id": "c8d34fa4",
   "metadata": {
    "id": "c8d34fa4"
   },
   "source": [
    "* Create a list and display all the items of it using a for loop"
   ]
  },
  {
   "cell_type": "code",
   "execution_count": 1,
   "id": "c310728a",
   "metadata": {},
   "outputs": [
    {
     "name": "stdout",
     "output_type": "stream",
     "text": [
      "2\n",
      "4\n",
      "6\n",
      "8\n"
     ]
    }
   ],
   "source": [
    "lst = [2, 4, 6, 8]\n",
    "\n",
    "for l in lst:\n",
    "    print(l)"
   ]
  },
  {
   "cell_type": "markdown",
   "id": "6bd25c57",
   "metadata": {
    "id": "6bd25c57"
   },
   "source": [
    "# List\n",
    "\n",
    "\n",
    "\n",
    "*   What is list?\n",
    "*   How to create list?\n",
    "*   Indexing in list\n",
    "\n"
   ]
  },
  {
   "cell_type": "markdown",
   "id": "e9dab825",
   "metadata": {
    "id": "e9dab825"
   },
   "source": [
    "## What is list?\n",
    "\n",
    "List is a sequence of values of any type.\n",
    "\n",
    "Values in the list are called elements / items. \n",
    "\n",
    "List is enclosed in square brackets. You can see in the cell below, how does a list looks like:"
   ]
  },
  {
   "cell_type": "code",
   "execution_count": null,
   "id": "d4ccea42",
   "metadata": {
    "id": "d4ccea42"
   },
   "outputs": [],
   "source": [
    "#  create a list named odd_numbers and store odd numbers till 10 in it.\n",
    "odd_numbers = [1, 3, 5, 7, 9]"
   ]
  },
  {
   "cell_type": "markdown",
   "id": "c2f263c3",
   "metadata": {
    "id": "c2f263c3"
   },
   "source": [
    "Just like to print a list, you just need to put list name in side the paranthesis of `print` function."
   ]
  },
  {
   "cell_type": "code",
   "execution_count": null,
   "id": "433be4f1",
   "metadata": {
    "colab": {
     "base_uri": "https://localhost:8080/",
     "height": 34
    },
    "id": "433be4f1",
    "outputId": "798a77b8-f8be-431e-e007-1ea920daa9ad"
   },
   "outputs": [
    {
     "name": "stdout",
     "output_type": "stream",
     "text": [
      "[1, 3, 5, 7, 9]\n"
     ]
    }
   ],
   "source": [
    "# print odd_number list\n",
    "print(odd_numbers)"
   ]
  },
  {
   "cell_type": "markdown",
   "id": "acfbbdf5",
   "metadata": {
    "id": "acfbbdf5"
   },
   "source": [
    "List can have more than one type too. In the cell below, list has value of 4 different data types:\n",
    "*   String - `'One'`\n",
    "*   Integer - `2`\n",
    "*   Float - `3.0`\n",
    "*   Boolean - `True`\n"
   ]
  },
  {
   "cell_type": "code",
   "execution_count": null,
   "id": "55a200e2",
   "metadata": {
    "colab": {
     "base_uri": "https://localhost:8080/",
     "height": 34
    },
    "id": "55a200e2",
    "outputId": "23b13ed4-7c3c-4798-aa50-3936121b7b61"
   },
   "outputs": [
    {
     "name": "stdout",
     "output_type": "stream",
     "text": [
      "['One', 2, 3.0, True]\n"
     ]
    }
   ],
   "source": [
    "# create a list of various type of values\n",
    "random_list = ['One', 2, 3.0, True]\n",
    "\n",
    "# print the random_list\n",
    "print(random_list)"
   ]
  },
  {
   "cell_type": "markdown",
   "id": "3d0aef3f",
   "metadata": {
    "id": "3d0aef3f"
   },
   "source": [
    "### Create an empty list\n",
    "\n",
    "As it's name suggests, empty list contains no elements.\n",
    "\n",
    "\n",
    "To create a list, just like variables, write list name on the left, values on the right wrapped in square brackets. Since, it's an empty list it does not have any elements, hence leave the square brackets empty.\n",
    "\n",
    "Syntax:\n",
    " \n",
    "```\n",
    "  empty_list = []\n",
    "```"
   ]
  },
  {
   "cell_type": "markdown",
   "id": "802ca261",
   "metadata": {
    "id": "802ca261"
   },
   "source": [
    "### Example"
   ]
  },
  {
   "cell_type": "code",
   "execution_count": null,
   "id": "7a2a870a",
   "metadata": {
    "colab": {
     "base_uri": "https://localhost:8080/",
     "height": 35
    },
    "id": "7a2a870a",
    "outputId": "a83e1e8c-4a15-4580-90db-02c9ba637787"
   },
   "outputs": [
    {
     "name": "stdout",
     "output_type": "stream",
     "text": [
      "[]\n"
     ]
    }
   ],
   "source": [
    "# create an empty list and name it \"names\" and then print \"names\" list\n",
    "\n",
    "names = []\n",
    "\n",
    "print(names)"
   ]
  },
  {
   "cell_type": "markdown",
   "id": "7c4630c7",
   "metadata": {
    "id": "7c4630c7"
   },
   "source": [
    "### Create a list\n",
    "\n",
    "To create a list, just like variables, write list name on the left, values on the right wrapped in square brackets. Unlike, empty list you can provide elements in square bracket, which you wish to add in the list.\n",
    "\n",
    "  Syntax to create a list from given elements.\n",
    "```\n",
    "  list_name = [element_1, element_2, element_3, ..., element_N]\n",
    "```\n"
   ]
  },
  {
   "cell_type": "markdown",
   "id": "defa31c2",
   "metadata": {
    "id": "defa31c2"
   },
   "source": [
    "### Example"
   ]
  },
  {
   "cell_type": "code",
   "execution_count": null,
   "id": "e37a7e84",
   "metadata": {
    "colab": {
     "base_uri": "https://localhost:8080/",
     "height": 35
    },
    "id": "e37a7e84",
    "outputId": "20069b7a-dbb4-46cb-8da2-8fc6dd430731"
   },
   "outputs": [
    {
     "name": "stdout",
     "output_type": "stream",
     "text": [
      "['China', 'Singapore', 'Australia', 'UK', 'Canada']\n"
     ]
    }
   ],
   "source": [
    "# Create a list of countried you have visited and name it as \"countries_visited\" and print the list.\n",
    "\n",
    "countries_visited = [\"China\", \"Singapore\", \"Australia\", \"UK\", \"Canada\"]\n",
    "\n",
    "print(countries_visited)"
   ]
  },
  {
   "cell_type": "markdown",
   "id": "30fbac29",
   "metadata": {
    "id": "30fbac29"
   },
   "source": [
    "## Indexing in list\n",
    "\n",
    "Index means place of an element or item in the list. Indexing is very useful when you wish to access only certain elements from the list. In the list below, you can see that we've created a list called `avengers`. Along with list, index is also shown to demonstrate how indexing works in Python.\n",
    "\n",
    "Note: While creating a list, you don't need to write index for list, it's automatically done by Python.\n",
    "\n",
    "```\n",
    "avengers= [“Captain America”, “Iron Man”, “Hulk”, “Hawk Eye”, “Thor”]\n",
    "\n",
    "index              0              1         2         3          4\n",
    "```\n",
    "\n",
    "In Python, we start counting from 0. Hence, index of Captain America would be 0 and index of Iron Man would be 1 and so on."
   ]
  },
  {
   "cell_type": "markdown",
   "id": "626b6ef3",
   "metadata": {
    "id": "626b6ef3"
   },
   "source": [
    "### Example"
   ]
  },
  {
   "cell_type": "markdown",
   "id": "e9ab6ecc",
   "metadata": {
    "id": "e9ab6ecc"
   },
   "source": [
    "1. Create a list of avengers and add your favorite avengers in it."
   ]
  },
  {
   "cell_type": "code",
   "execution_count": null,
   "id": "1e63a6ca",
   "metadata": {
    "id": "1e63a6ca"
   },
   "outputs": [],
   "source": [
    "# create a list of avengers\n",
    "avengers= [\"Wanda\", \"Iron Man\", \"Falcon\", \"Hawk Eye\", \"Hulk\"]"
   ]
  },
  {
   "cell_type": "markdown",
   "id": "5516fdb2",
   "metadata": {
    "id": "5516fdb2"
   },
   "source": [
    "### Accessing element using index\n",
    "\n",
    "Syntax to access an element from list at given index.\n",
    "```\n",
    "  list_name[index]\n",
    "```"
   ]
  },
  {
   "cell_type": "markdown",
   "id": "b2e521d6",
   "metadata": {
    "id": "b2e521d6"
   },
   "source": [
    "### Example\n",
    "\n",
    "Print `Captain America` from avengers list using indexing."
   ]
  },
  {
   "cell_type": "code",
   "execution_count": null,
   "id": "9223947b",
   "metadata": {
    "colab": {
     "base_uri": "https://localhost:8080/",
     "height": 34
    },
    "id": "9223947b",
    "outputId": "0b361a47-2623-411e-cf02-377d453bd2d9"
   },
   "outputs": [
    {
     "name": "stdout",
     "output_type": "stream",
     "text": [
      "Wanda\n"
     ]
    }
   ],
   "source": [
    "# print \"Captain America\" from avengers list using index\n",
    "\n",
    "print(avengers[0])"
   ]
  },
  {
   "cell_type": "code",
   "execution_count": null,
   "id": "a4842a1e",
   "metadata": {
    "colab": {
     "base_uri": "https://localhost:8080/",
     "height": 34
    },
    "id": "a4842a1e",
    "outputId": "6898f998-0880-433b-8491-aee4956e83d2"
   },
   "outputs": [
    {
     "name": "stdout",
     "output_type": "stream",
     "text": [
      "Hawk Eye\n"
     ]
    }
   ],
   "source": [
    "# print an element at index 3 from avengers list\n",
    "\n",
    "print(avengers[3])"
   ]
  },
  {
   "cell_type": "markdown",
   "id": "b0aa3032",
   "metadata": {
    "id": "b0aa3032"
   },
   "source": [
    "### Extra"
   ]
  },
  {
   "cell_type": "markdown",
   "id": "6d1c1f58",
   "metadata": {
    "id": "6d1c1f58"
   },
   "source": [
    "Indexing can also be used to access elements and save it as a variable."
   ]
  },
  {
   "cell_type": "code",
   "execution_count": null,
   "id": "834d3cd9",
   "metadata": {
    "colab": {
     "base_uri": "https://localhost:8080/",
     "height": 34
    },
    "id": "834d3cd9",
    "outputId": "d25d5d3b-4b9e-49a9-f1eb-f459608c2259"
   },
   "outputs": [
    {
     "name": "stdout",
     "output_type": "stream",
     "text": [
      "Wanda\n"
     ]
    }
   ],
   "source": [
    "vis = avengers[0]\n",
    "\n",
    "print(vis)"
   ]
  },
  {
   "cell_type": "markdown",
   "id": "0e944998",
   "metadata": {
    "id": "0e944998"
   },
   "source": [
    "### Update element using index\n",
    "\n",
    "Sometimes we want to update only specific element in list, using indexing you can achieve that. Let's see how to do that. \n",
    "\n",
    "Syntax \n",
    "```\n",
    "  list_name[index] = new_value\n",
    "```"
   ]
  },
  {
   "cell_type": "markdown",
   "id": "2f6a4d44",
   "metadata": {
    "id": "2f6a4d44"
   },
   "source": [
    "### Example"
   ]
  },
  {
   "cell_type": "markdown",
   "id": "51bb51ca",
   "metadata": {
    "id": "51bb51ca"
   },
   "source": [
    "1. In avengers list, update `Hawk Eye` to `Spider Man`.\n"
   ]
  },
  {
   "cell_type": "code",
   "execution_count": null,
   "id": "37b18277",
   "metadata": {
    "colab": {
     "base_uri": "https://localhost:8080/",
     "height": 34
    },
    "id": "37b18277",
    "outputId": "fd20974c-8e5b-4143-b117-c307d029518b"
   },
   "outputs": [
    {
     "name": "stdout",
     "output_type": "stream",
     "text": [
      "['Wanda', 'Iron Man', 'Falcon', 'Hawk Eye', 'Hulk']\n"
     ]
    }
   ],
   "source": [
    "# create a list of avengers\n",
    "avengers= [\"Wanda\", \"Iron Man\", \"Falcon\", \"Hawk Eye\", \"Hulk\"]\n",
    "\n",
    "# print avengers list\n",
    "print(avengers)"
   ]
  },
  {
   "cell_type": "markdown",
   "id": "d5e12135",
   "metadata": {
    "id": "d5e12135"
   },
   "source": [
    "In order to update the element, we need to find the index of the element `Thor`. \n",
    "\n",
    "Index of `Thor` is 4, hence we need to update the element at index 4, and new element will be `Spider Man`. As per the syntax, first comes list name which is `avengers` followed by square brackets in which you need to enter the index at which you want to update the element. After the equals sign, enter new element which is `Spider Man`."
   ]
  },
  {
   "cell_type": "code",
   "execution_count": null,
   "id": "4d8d1050",
   "metadata": {
    "id": "4d8d1050"
   },
   "outputs": [],
   "source": [
    "# in avengers list, update Thor with Spider Man using indexing\n",
    "avengers[3] = \"Spider Man\""
   ]
  },
  {
   "cell_type": "markdown",
   "id": "90262532",
   "metadata": {
    "id": "90262532"
   },
   "source": [
    "Now let's checkout the updated list."
   ]
  },
  {
   "cell_type": "code",
   "execution_count": null,
   "id": "8251771c",
   "metadata": {
    "colab": {
     "base_uri": "https://localhost:8080/",
     "height": 35
    },
    "id": "8251771c",
    "outputId": "7cf65b74-ca81-48cc-8510-41f8ae248a85"
   },
   "outputs": [
    {
     "name": "stdout",
     "output_type": "stream",
     "text": [
      "['Wanda', 'Iron Man', 'Falcon', 'Spider Man', 'Hulk']\n"
     ]
    }
   ],
   "source": [
    "# print avengers list\n",
    "print(avengers)"
   ]
  },
  {
   "cell_type": "markdown",
   "id": "7d339720",
   "metadata": {
    "id": "7d339720"
   },
   "source": [
    "Can you see the different between old list and updated list?\n",
    "\n",
    "\n",
    "4th element of the list is changed to \"Spider Man\". If you run old list cell again, it'll print updated list only, because we updated the list and saved it in the memory. "
   ]
  },
  {
   "cell_type": "code",
   "execution_count": null,
   "id": "MSWPTR9nbfi7",
   "metadata": {
    "id": "MSWPTR9nbfi7"
   },
   "outputs": [],
   "source": []
  },
  {
   "cell_type": "code",
   "execution_count": null,
   "id": "GZxz-h4Kbfrc",
   "metadata": {
    "id": "GZxz-h4Kbfrc"
   },
   "outputs": [],
   "source": []
  },
  {
   "cell_type": "markdown",
   "id": "c04d9bc3",
   "metadata": {
    "id": "c04d9bc3"
   },
   "source": [
    "# **Introduction to Tuples**\n",
    "\n",
    "#### **In this part, the topics covered are:**\n",
    "\n",
    "1. What are tuples?\n",
    "2. Why are they used?\n",
    "3. How to create a tuple?\n",
    "4. Tuple length\n",
    "5. Accessing tuple items (Indexing and Slicing)\n",
    "6. Add and remove tuple items"
   ]
  },
  {
   "cell_type": "markdown",
   "id": "22d66e2d",
   "metadata": {
    "id": "22d66e2d"
   },
   "source": [
    "## What are Tuples?\n",
    "\n",
    "* Tuples are another very popular in-built data structure in Python. These are quite similar to Lists except for one difference – they are immutable. This means that once a tuple is generated, no value can be added, deleted, or edited.\n",
    "\n",
    "## Why are they used?\n",
    "\n",
    "* Using tuples we can store multiple items/elements (even of different data types) in a single variable. Compared to lists, tuples have a smaller size which makes it a bit faster.\n",
    "\n",
    "## How to create a tuple?\n",
    "\n",
    "* We can create a tuple by putting all the values in parentheses ( ) and seperate them using commas as shown below:\n",
    "\n",
    "variable_name = (element1, element2, ..., elementn)\n",
    "\n",
    "Let's go through some examples of tuples."
   ]
  },
  {
   "cell_type": "markdown",
   "id": "5bdd0f93",
   "metadata": {
    "id": "5bdd0f93"
   },
   "source": [
    "## **Tuple containing elements of the same datatype**"
   ]
  },
  {
   "cell_type": "code",
   "execution_count": null,
   "id": "ece404c0",
   "metadata": {
    "id": "ece404c0",
    "outputId": "c53ba54d-a5d8-41ef-c469-2ef9cac56aae"
   },
   "outputs": [
    {
     "name": "stdout",
     "output_type": "stream",
     "text": [
      "(8, 2, 13)\n"
     ]
    }
   ],
   "source": [
    "# This tuple contains integer values\n",
    "\n",
    "tuple1 = (8,2,13)\n",
    "print(tuple1)"
   ]
  },
  {
   "cell_type": "code",
   "execution_count": null,
   "id": "8c7b8dca",
   "metadata": {
    "id": "8c7b8dca",
    "outputId": "a289bd76-81d8-4085-ca67-d25c6b9db6ee"
   },
   "outputs": [
    {
     "name": "stdout",
     "output_type": "stream",
     "text": [
      "('bat', 'ball', 'stumps', 'umpire')\n"
     ]
    }
   ],
   "source": [
    "# This tuple contains string values\n",
    "\n",
    "tuple2 = ('bat','ball', 'stumps', 'umpire')\n",
    "print(tuple2)"
   ]
  },
  {
   "cell_type": "markdown",
   "id": "33fc6853",
   "metadata": {
    "id": "33fc6853"
   },
   "source": [
    "## **Tuple containing elements of different datatypes**"
   ]
  },
  {
   "cell_type": "code",
   "execution_count": null,
   "id": "90d417ce",
   "metadata": {
    "id": "90d417ce",
    "outputId": "ddd46364-2fb2-4631-ac44-fc8e8ec0ac03"
   },
   "outputs": [
    {
     "name": "stdout",
     "output_type": "stream",
     "text": [
      "('Rahul', 'Rai', 1999, 23.42)\n"
     ]
    }
   ],
   "source": [
    "# Tuple containing elements of multiple datatypes\n",
    "\n",
    "tuple3 = ('Rahul', 'Rai', 1999, 23.42 )\n",
    "print(tuple3)"
   ]
  },
  {
   "cell_type": "markdown",
   "id": "f7f0b0d7",
   "metadata": {
    "id": "f7f0b0d7"
   },
   "source": [
    "# Tuple length\n",
    "To check the number of elements a tuple contains, we can use the len( ) function."
   ]
  },
  {
   "cell_type": "code",
   "execution_count": null,
   "id": "cda8dc13",
   "metadata": {
    "id": "cda8dc13",
    "outputId": "59c5d068-ec48-471c-cf4f-5d42e28e9dac"
   },
   "outputs": [
    {
     "name": "stdout",
     "output_type": "stream",
     "text": [
      "4\n"
     ]
    }
   ],
   "source": [
    "tuple5 = ('tap','pot','water','fish')\n",
    "print(len(tuple5))"
   ]
  },
  {
   "cell_type": "markdown",
   "id": "832e9e5b",
   "metadata": {
    "id": "832e9e5b"
   },
   "source": [
    "## **Task 1: Create a tuple with elements of your choice and find the length**"
   ]
  },
  {
   "cell_type": "code",
   "execution_count": 2,
   "id": "1a384f7e",
   "metadata": {
    "id": "1a384f7e"
   },
   "outputs": [
    {
     "name": "stdout",
     "output_type": "stream",
     "text": [
      "3\n"
     ]
    }
   ],
   "source": [
    "# Your code here\n",
    "\n",
    "tup1 = ('Harry', 'Ron', 'Hermoine')\n",
    "print(len(tup1))"
   ]
  },
  {
   "cell_type": "markdown",
   "id": "28708d10",
   "metadata": {
    "id": "28708d10"
   },
   "source": [
    "# Accessing items in a tuple (Indexing and Slicing)\n",
    "\n",
    "### Indexing\n",
    "\n",
    "**Indexing** means referring to an element of an iterable by its position within the iterable.\n",
    "\n",
    "Again, the concept is very simple! Let's look at examples to understand it better.\n",
    "\n",
    "```\n",
    "animal_tuple = ('Lion', 'Elephant', 'Tiger', 'Monkey', 'Gorilla')\n",
    "\n",
    "index            0         1          2         3         4\n",
    "```\n",
    "\n",
    "**Index in python starts with 0**\n",
    "\n",
    "The syntax for this is:\n",
    "```\n",
    "name_of_the_tuple_variable[index]\n",
    "```\n",
    "So, let's say you want to get the element named **Monkey** from the tuple mentioned above, what you would do is:\n",
    "\n",
    "Look at the index position of the desired element (in our case Monkey is at index **3**)\n",
    "\n",
    "Now let us follow the syntax and run the code to get the desired element:\n"
   ]
  },
  {
   "cell_type": "code",
   "execution_count": null,
   "id": "b2a42b46",
   "metadata": {
    "id": "b2a42b46",
    "outputId": "eb768f12-5912-499c-e9c1-df387606dabf"
   },
   "outputs": [
    {
     "name": "stdout",
     "output_type": "stream",
     "text": [
      "Monkey\n"
     ]
    }
   ],
   "source": [
    "animal_tuple = ('Lion', 'Elephant', 'Tiger', 'Monkey', 'Gorilla')\n",
    "print(animal_tuple[3])"
   ]
  },
  {
   "cell_type": "markdown",
   "id": "914fe74f",
   "metadata": {
    "id": "914fe74f"
   },
   "source": [
    "We can also use negative indexing in which counting starts from the right. The rightmost item has an index value of [-1], the second from the right has index value of [-2] and so on."
   ]
  },
  {
   "cell_type": "code",
   "execution_count": null,
   "id": "c145d1ae",
   "metadata": {
    "id": "c145d1ae",
    "outputId": "7d41e132-08ce-4818-8721-10fead17addd"
   },
   "outputs": [
    {
     "name": "stdout",
     "output_type": "stream",
     "text": [
      "Tiger\n"
     ]
    }
   ],
   "source": [
    "# If we want to print the 3rd item from the right, we will use a negative index of -3\n",
    "print(animal_tuple[-3])"
   ]
  },
  {
   "cell_type": "markdown",
   "id": "5f643f25",
   "metadata": {
    "id": "5f643f25"
   },
   "source": [
    "## **Task 2: Write a code to get the element named 'Pizza' using positive indexing and 'Burger' using negative indexing**"
   ]
  },
  {
   "cell_type": "code",
   "execution_count": 3,
   "id": "5cde3ccf",
   "metadata": {
    "id": "5cde3ccf"
   },
   "outputs": [
    {
     "name": "stdout",
     "output_type": "stream",
     "text": [
      "Pizza\n",
      "Burger\n"
     ]
    }
   ],
   "source": [
    "food_tuple = ('Burger', 'Noodles', 'Pizza', 'Coke')\n",
    "\n",
    "# Your code here\n",
    "\n",
    "print(food_tuple[2])\n",
    "print(food_tuple[-4])"
   ]
  },
  {
   "cell_type": "markdown",
   "id": "cab957f0",
   "metadata": {
    "id": "cab957f0"
   },
   "source": [
    "## **Slicing**\n",
    "\n",
    "\n",
    "**Slicing** means getting a subset of elements from an iterable based on their indices.\n",
    "\n",
    "The syntax for slicing is [start:end:step]\n",
    "\n",
    "Let's focus on start and end for now [start:end]. We can either use both the values or any single one of them.\n",
    "\n",
    "If we use [x:] then it will let us access items from the index value x"
   ]
  },
  {
   "cell_type": "code",
   "execution_count": null,
   "id": "0ccd620c",
   "metadata": {
    "id": "0ccd620c",
    "outputId": "7b7d3e6e-c07a-4ff5-dccf-48d4c448d069"
   },
   "outputs": [
    {
     "name": "stdout",
     "output_type": "stream",
     "text": [
      "('Audi', 'Ferrari', 'Volkswagen', 'Ford', 'Mercedes', 'Aston Martin')\n"
     ]
    }
   ],
   "source": [
    "# Over here we are printing values starting from the index value 2\n",
    "\n",
    "car_tuple = ('Honda','BMW','Audi','Ferrari','Volkswagen','Ford','Mercedes','Aston Martin')\n",
    "print(car_tuple[2:])"
   ]
  },
  {
   "cell_type": "markdown",
   "id": "66224570",
   "metadata": {
    "id": "66224570"
   },
   "source": [
    "If we use [:x] then it will let us access items present before the index value x"
   ]
  },
  {
   "cell_type": "code",
   "execution_count": null,
   "id": "07f4e639",
   "metadata": {
    "id": "07f4e639",
    "outputId": "a198914c-d411-40ef-b92a-750c0a2f2f3b"
   },
   "outputs": [
    {
     "name": "stdout",
     "output_type": "stream",
     "text": [
      "('Honda', 'BMW')\n"
     ]
    }
   ],
   "source": [
    "# Over here we are printing values that are present before the index value 2\n",
    "\n",
    "print(car_tuple[:2])"
   ]
  },
  {
   "cell_type": "markdown",
   "id": "c87fff95",
   "metadata": {
    "id": "c87fff95"
   },
   "source": [
    "If we don't specify the start or the end then it will give us all the elements"
   ]
  },
  {
   "cell_type": "code",
   "execution_count": null,
   "id": "f8912ea0",
   "metadata": {
    "id": "f8912ea0",
    "outputId": "889e8aaa-56d3-4795-dbb2-cbcd4aacdf2a"
   },
   "outputs": [
    {
     "name": "stdout",
     "output_type": "stream",
     "text": [
      "('Honda', 'BMW', 'Audi', 'Ferrari', 'Volkswagen', 'Ford', 'Mercedes', 'Aston Martin')\n"
     ]
    }
   ],
   "source": [
    "print(car_tuple[:])"
   ]
  },
  {
   "cell_type": "markdown",
   "id": "10337eae",
   "metadata": {
    "id": "10337eae"
   },
   "source": [
    "We can also access items between two indexes values as follows:"
   ]
  },
  {
   "cell_type": "code",
   "execution_count": null,
   "id": "1b65f0dc",
   "metadata": {
    "id": "1b65f0dc",
    "outputId": "1f22dc41-81ae-4218-c952-27775d83ac90"
   },
   "outputs": [
    {
     "name": "stdout",
     "output_type": "stream",
     "text": [
      "('Audi', 'Ferrari', 'Volkswagen')\n"
     ]
    }
   ],
   "source": [
    "# This will print the values starting from the index 2 till the index 5 (item in the 5th index will not be printed)\n",
    "\n",
    "print(car_tuple[2:5])"
   ]
  },
  {
   "cell_type": "markdown",
   "id": "082edc0e",
   "metadata": {
    "id": "082edc0e"
   },
   "source": [
    "## **Task 3: Write a code to get the elements 'Volkswagen', 'Ford' and 'Mercedes'**"
   ]
  },
  {
   "cell_type": "code",
   "execution_count": 4,
   "id": "2ec97aeb",
   "metadata": {
    "id": "2ec97aeb"
   },
   "outputs": [
    {
     "name": "stdout",
     "output_type": "stream",
     "text": [
      "('Volkswagen', 'Ford', 'Mercedes')\n"
     ]
    }
   ],
   "source": [
    "car_tuple = ('Honda','BMW','Audi','Ferrari','Volkswagen','Ford','Mercedes','Aston Martin')\n",
    "\n",
    "# Your code here\n",
    "\n",
    "print(car_tuple[4:7])"
   ]
  },
  {
   "cell_type": "markdown",
   "id": "a608e8d1",
   "metadata": {
    "id": "a608e8d1"
   },
   "source": [
    "Negative index values can also be used over here as shown below:"
   ]
  },
  {
   "cell_type": "code",
   "execution_count": null,
   "id": "c21d5448",
   "metadata": {
    "id": "c21d5448",
    "outputId": "8e438899-a855-479a-ce5a-1d9b89075934"
   },
   "outputs": [
    {
     "name": "stdout",
     "output_type": "stream",
     "text": [
      "('Ford', 'Mercedes', 'Aston Martin')\n"
     ]
    }
   ],
   "source": [
    "# This will print 3 elements from the right side\n",
    "\n",
    "print(car_tuple[-3:])"
   ]
  },
  {
   "cell_type": "markdown",
   "id": "c1d345c0",
   "metadata": {
    "id": "c1d345c0"
   },
   "source": [
    "## **Task 4: Write a code to get the first 4 elements (from the left) in the tuple using negative indexing**"
   ]
  },
  {
   "cell_type": "code",
   "execution_count": 5,
   "id": "dc74944c",
   "metadata": {
    "id": "dc74944c"
   },
   "outputs": [
    {
     "name": "stdout",
     "output_type": "stream",
     "text": [
      "('Honda', 'BMW', 'Audi', 'Ferrari')\n"
     ]
    }
   ],
   "source": [
    "car_tuple = ('Honda','BMW','Audi','Ferrari','Volkswagen','Ford','Mercedes','Aston Martin')\n",
    "\n",
    "# Your code here\n",
    "\n",
    "print(car_tuple[-8:-4])"
   ]
  },
  {
   "cell_type": "markdown",
   "id": "77a39fae",
   "metadata": {
    "id": "77a39fae"
   },
   "source": [
    "Now that we have learnt start and end, let's use the step value.\n",
    "\n",
    "```\n",
    "car_tuple = ('Honda','BMW','Audi','Ferrari','Volkswagen','Ford','Mercedes','Aston Martin')\n",
    "index            0     1     2        3          4          5       6             7\n",
    "```\n",
    "\n",
    "A step value of x will skip over x-1 elements\n",
    "\n",
    "\n",
    "We had earlier seen that if we do not specify start and end, then we will get all the elements present in the tuple. Now if we use the step value:"
   ]
  },
  {
   "cell_type": "code",
   "execution_count": null,
   "id": "c5c1bc30",
   "metadata": {
    "id": "c5c1bc30",
    "outputId": "3929907f-5e0a-4911-b5c3-2efeeae2be5e"
   },
   "outputs": [
    {
     "name": "stdout",
     "output_type": "stream",
     "text": [
      "('Honda', 'Ferrari', 'Mercedes')\n"
     ]
    }
   ],
   "source": [
    "print(car_tuple[::3])"
   ]
  },
  {
   "cell_type": "markdown",
   "id": "1cd4ae99",
   "metadata": {
    "id": "1cd4ae99"
   },
   "source": [
    "When we used a step value of 3, after printing the first element (Honda), every third element gets printed.\n",
    "\n",
    "Let us now use all the values:"
   ]
  },
  {
   "cell_type": "code",
   "execution_count": null,
   "id": "478f5404",
   "metadata": {
    "id": "478f5404",
    "outputId": "b197973c-8a0d-4ba2-92f3-0ed91dc0f608"
   },
   "outputs": [
    {
     "name": "stdout",
     "output_type": "stream",
     "text": [
      "('BMW', 'Ferrari', 'Ford')\n"
     ]
    }
   ],
   "source": [
    "print(car_tuple[1:6:2])"
   ]
  },
  {
   "cell_type": "markdown",
   "id": "28b78395",
   "metadata": {
    "id": "28b78395"
   },
   "source": [
    "## **Adding or removing items**\n",
    "\n",
    "As mentioned above, once we have created a tuple, we cannot change, add or remove items. However, to change the tuple values, we can convert a tuple into a list, carry out the required modifications and convert it back into a tuple.\n",
    "\n",
    "Let's add an item to a tuple:"
   ]
  },
  {
   "cell_type": "code",
   "execution_count": null,
   "id": "4fb0b483",
   "metadata": {
    "id": "4fb0b483",
    "outputId": "99bed335-09e9-4b69-8c01-d4ee1e672f83"
   },
   "outputs": [
    {
     "name": "stdout",
     "output_type": "stream",
     "text": [
      "('Red', 'Blue', 'Green', 'Yellow', 'Brown')\n"
     ]
    }
   ],
   "source": [
    "colour_tuple = ('Red','Blue','Green','Yellow')\n",
    "\n",
    "# Converting tuple to list\n",
    "colour_list = list(colour_tuple)\n",
    "\n",
    "# Adding item\n",
    "colour_list.append('Brown')\n",
    "\n",
    "# Converting list back to tuple\n",
    "colour_tuple = tuple(colour_list)\n",
    "\n",
    "print(colour_tuple)"
   ]
  },
  {
   "cell_type": "markdown",
   "id": "0e16ec4f",
   "metadata": {
    "id": "0e16ec4f"
   },
   "source": [
    "Now, let's remove an item, for example Green which has an index value 2"
   ]
  },
  {
   "cell_type": "code",
   "execution_count": null,
   "id": "10c5f606",
   "metadata": {
    "id": "10c5f606",
    "outputId": "7282f49e-5227-4f3d-e099-38c7b6e9eb86"
   },
   "outputs": [
    {
     "name": "stdout",
     "output_type": "stream",
     "text": [
      "('Red', 'Blue', 'Yellow', 'Brown')\n"
     ]
    }
   ],
   "source": [
    "# Converting tuple to list\n",
    "colour_list = list(colour_tuple)\n",
    "\n",
    "# Removing item\n",
    "colour_list.pop(2)\n",
    "\n",
    "# Converting list back to tuple\n",
    "colour_tuple = tuple(colour_list)\n",
    "\n",
    "print(colour_tuple)"
   ]
  },
  {
   "cell_type": "markdown",
   "id": "96bc40d1",
   "metadata": {
    "id": "96bc40d1"
   },
   "source": [
    "## **Task 5: Write a code to add two cities to the tuple given below**"
   ]
  },
  {
   "cell_type": "code",
   "execution_count": 6,
   "id": "8db3ff88",
   "metadata": {
    "id": "8db3ff88"
   },
   "outputs": [
    {
     "name": "stdout",
     "output_type": "stream",
     "text": [
      "('Delhi', 'Mumbai', 'Chennai', 'Hyderabad', 'Ahmedabad', 'Kharagpur')\n"
     ]
    }
   ],
   "source": [
    "city_tuple = ('Delhi','Mumbai','Chennai','Hyderabad')\n",
    "\n",
    "# Your code here\n",
    "\n",
    "city_list = list(city_tuple)\n",
    "city_list.extend(['Ahmedabad', 'Kharagpur'])\n",
    "\n",
    "city_tuple = tuple(city_list)\n",
    "print(city_tuple)"
   ]
  },
  {
   "cell_type": "markdown",
   "id": "7a73851d",
   "metadata": {
    "id": "7a73851d"
   },
   "source": [
    "## What are functions?\n",
    "\n",
    "#### **In this part, the topics covered are:**\n",
    "\n",
    "1. What are function?\n",
    "2. Why are they used?\n",
    "3. Defining Functions\n",
    "4. Function with parameters\n",
    "\n",
    "\n",
    "## What are functions?\n",
    "A function is a block of code that takes one or more input values and produces an output value. \n",
    "Functions are used to modularize code so that it is easier to read and maintain. Functions can also be reused, which saves time and makes code more reliable.\n",
    "\n",
    "## Why are they used?\n",
    "Python functions are used to modularize code and make it more readable. Functions can take arguments and return values, which makes them more flexible than other code structures like loops and if-statements. Functions can also be defined in other files and imported into the current file, which makes code reuse easier.\n",
    "\n",
    "## Defining Functions\n",
    "Functions are defined by **def** keyword in python. Functions in python return the result of the operation we perform inside the function. For example, if we want to do addition, the return value would be the sum of numbers.\n",
    "\n",
    "Let us look at an example."
   ]
  },
  {
   "cell_type": "code",
   "execution_count": null,
   "id": "5536d266",
   "metadata": {
    "colab": {
     "base_uri": "https://localhost:8080/"
    },
    "id": "5536d266",
    "outputId": "fb1cf9c4-982a-4ef8-f780-9eb1a37f0896"
   },
   "outputs": [
    {
     "name": "stdout",
     "output_type": "stream",
     "text": [
      "7\n"
     ]
    }
   ],
   "source": [
    "# Let us define function\n",
    "def addition():\n",
    "    a = 3\n",
    "    b = 4\n",
    "    c = a+b\n",
    "    return c\n",
    "\n",
    "# We are calling the function\n",
    "sum = addition()\n",
    "print(sum)"
   ]
  },
  {
   "cell_type": "markdown",
   "id": "07e1304d",
   "metadata": {
    "id": "07e1304d"
   },
   "source": [
    "In the above cell, *addition* is the name of function. This function is used to add two numbers and return the results. \n",
    "\n",
    "If we look at the return value of fuction, it returns **c**, and **c** is the sum of two numbers **a** and **b**. \n",
    "\n",
    "Suppose, you want to do addition 1000 times in your program, you can keep calling the function numerous times and it will give you addition of numbers."
   ]
  },
  {
   "cell_type": "markdown",
   "id": "93700ab4",
   "metadata": {
    "id": "93700ab4"
   },
   "source": [
    "The example we saw above, was *function without parameters*. Now, what are parameters and where do we use them?\n",
    "\n",
    "## Function with parameters\n",
    "\n",
    "Let's say you want to add 2 numbers in your program for 100 times. And during each addition, we have 2 unique number, for example first time you want to add 2 and 3, then 4 and 5 then 7 and 10 and so on. What then? So, we provide parameters to our function. Let us understand by an example."
   ]
  },
  {
   "cell_type": "code",
   "execution_count": null,
   "id": "e2b62960",
   "metadata": {
    "colab": {
     "base_uri": "https://localhost:8080/"
    },
    "id": "e2b62960",
    "outputId": "2ea7f623-191b-49b0-b48d-dd6518eb26b5"
   },
   "outputs": [
    {
     "name": "stdout",
     "output_type": "stream",
     "text": [
      "9\n",
      "24\n",
      "189\n"
     ]
    }
   ],
   "source": [
    "# defining function with parameters\n",
    "def addition_parameters(number1, number2):\n",
    "    c = number1 + number2\n",
    "    return c\n",
    "\n",
    "# calling function and passing parameters\n",
    "sum_new = addition_parameters(5,4)\n",
    "print(sum_new)\n",
    "\n",
    "sum_new1 = addition_parameters(10,14)\n",
    "print(sum_new1)\n",
    "\n",
    "sum_new2 = addition_parameters(101,88)\n",
    "print(sum_new2)"
   ]
  },
  {
   "cell_type": "markdown",
   "id": "a94851f1",
   "metadata": {
    "id": "a94851f1"
   },
   "source": [
    "If you watch closely, after defining our function named **addition_parameters** we write **number1 and number2**. These are the parameters that we pass to our function.\n",
    "\n",
    "Similarly, since the value of these parameters is not defined, while calling the function, we pass the values. So if you see the variable **sum_new**, we can see we pass 5 and 4. So, python understands that number1 is 5 and number2 is 4, hence we get the sum as 9 in our first output. \n",
    "\n",
    "\n",
    "We can vary the number of parameters to any number we want, let's make a function with 5 parameters to do some basic operations."
   ]
  },
  {
   "cell_type": "markdown",
   "id": "7cb274b9",
   "metadata": {
    "id": "7cb274b9"
   },
   "source": [
    "##### example - 1"
   ]
  },
  {
   "cell_type": "code",
   "execution_count": null,
   "id": "12659075",
   "metadata": {
    "colab": {
     "base_uri": "https://localhost:8080/"
    },
    "id": "12659075",
    "outputId": "12e8b42a-83f4-476d-a7cb-163e66818e73"
   },
   "outputs": [
    {
     "name": "stdout",
     "output_type": "stream",
     "text": [
      "8\n"
     ]
    }
   ],
   "source": [
    "def operations(parameter1,parameter2,parameter3, parameter4,parameter5):\n",
    "    c = parameter1 + parameter2 * parameter3 - parameter4 + parameter5\n",
    "    return c\n",
    "\n",
    "result = operations(1,2,3,4,5)\n",
    "print(result)"
   ]
  },
  {
   "cell_type": "markdown",
   "id": "232c8e11",
   "metadata": {
    "id": "232c8e11"
   },
   "source": [
    "As you can see, we passed 5 parameters and did some operation which had addition, subtraction and multiplication all together! \n",
    "\n",
    "\n",
    "#### Challenge task \n",
    "***Define a function named \"my_function\", which takes 3 parameters. Multiply all these parameters, return the value and print it. Call the function 2 times and pass different value of parameters each time.***"
   ]
  },
  {
   "cell_type": "code",
   "execution_count": 7,
   "id": "720b5b29",
   "metadata": {},
   "outputs": [
    {
     "name": "stdout",
     "output_type": "stream",
     "text": [
      "48\n",
      "15\n"
     ]
    }
   ],
   "source": [
    "def my_function(num1, num2, num3):\n",
    "    return num1*num2*num3\n",
    "res1 = my_function(2, 4, 6)\n",
    "res2 = my_function(1, 3, 5)\n",
    "print(res1)\n",
    "print(res2)"
   ]
  },
  {
   "cell_type": "markdown",
   "id": "acbe09ab",
   "metadata": {
    "id": "acbe09ab"
   },
   "source": [
    "## Lambda Functions\n",
    "\n",
    "#### **In this part, the topics covered are:**\n",
    "\n",
    "1. What are lambda functions?\n",
    "2. Why are they used?\n",
    "3. Defining Lambda Functions\n",
    "4. Lambda Function with parameters\n",
    "\n",
    "## What are lambda functions?\n",
    "We use the keyword **lambda** to declare an anonymous function. These functions do not have a name. A lambda function looks different from a function that is declared using the keyword **def** but they behave in the same manner.\n",
    "\n",
    "## Why are they used?\n",
    "We use **lambda** functions when we need a function for a short period of time. This makes it efficient and there is no need to declare a name for the function. If we use a function that is declared by def then it will stay and occupy space in the memory.\n",
    "\n",
    "Lambda functions are usually used when we want to pass a function as an parameter to a higher-order function."
   ]
  },
  {
   "cell_type": "markdown",
   "id": "04b33955",
   "metadata": {
    "id": "04b33955"
   },
   "source": [
    "## Defining Lambda Functions\n",
    "\n",
    "Like we had *def* while defining functions, we have *lambda* while we define lambda functions."
   ]
  },
  {
   "cell_type": "markdown",
   "id": "24f7ebf7",
   "metadata": {
    "id": "24f7ebf7"
   },
   "source": [
    "##### example - 1"
   ]
  },
  {
   "cell_type": "code",
   "execution_count": null,
   "id": "f3d0f25a",
   "metadata": {
    "colab": {
     "base_uri": "https://localhost:8080/"
    },
    "id": "f3d0f25a",
    "outputId": "09d1a99f-64b6-4c33-f5ed-34a334935a19"
   },
   "outputs": [
    {
     "name": "stdout",
     "output_type": "stream",
     "text": [
      "357\n"
     ]
    }
   ],
   "source": [
    "addition = lambda num_1, num_2, num_3, num_4 : num_1 + num_2 + num_3 + num_4\n",
    "print(addition(22,331,1,3))"
   ]
  },
  {
   "cell_type": "markdown",
   "id": "33264d7f",
   "metadata": {
    "id": "33264d7f"
   },
   "source": [
    "If you look carefully, we follow a similar approach, we define the functions, keep some parameters and have a value.\n",
    "\n",
    "The major difference is, we don't have to return the value, it gets saved in the variable directly, in the example above, everything got stored into **addition**\n",
    "\n",
    "Let us look at one more lambda function that calculates exponential of two numbers."
   ]
  },
  {
   "cell_type": "code",
   "execution_count": null,
   "id": "b6830fdd",
   "metadata": {
    "colab": {
     "base_uri": "https://localhost:8080/"
    },
    "id": "b6830fdd",
    "outputId": "9785c112-3944-425c-8bf9-622e7294e6f0"
   },
   "outputs": [
    {
     "name": "stdout",
     "output_type": "stream",
     "text": [
      "11.521534126785717\n"
     ]
    }
   ],
   "source": [
    "exponential = lambda num1, num2 : num1 ** num2\n",
    "print(exponential(2.2, 3.1))"
   ]
  },
  {
   "cell_type": "markdown",
   "id": "2cd2c208",
   "metadata": {
    "id": "2cd2c208"
   },
   "source": [
    "#### Challenge task \n",
    "***Define a lamba function with variable name \"operations\", give 4 parameters and perform any addition, substraction, multiplication, division operations.***"
   ]
  },
  {
   "cell_type": "code",
   "execution_count": 8,
   "id": "41e01dcb",
   "metadata": {},
   "outputs": [
    {
     "name": "stdout",
     "output_type": "stream",
     "text": [
      "2.5\n"
     ]
    }
   ],
   "source": [
    "operations = lambda num1, num2, num3, num4: num1+num2*num3/num4\n",
    "print(operations(1, 2, 3, 4))"
   ]
  },
  {
   "cell_type": "markdown",
   "id": "2a485e95",
   "metadata": {
    "id": "2a485e95"
   },
   "source": [
    "## Introduction to Python Packages\n",
    "\n",
    "#### **In this part, the topics covered are:**\n",
    "\n",
    "1. What are python packages?\n",
    "2. How are they useful and make code efficient?\n",
    "\n",
    "## What are python packages?\n",
    "Python packages are collections of modules that you can import into your Python scripts. Packages provide a way to structure our code in a better way and keep it efficient. Packages also help us save a lot of time, we can use existing packages and get our work done quickly rather than writing everything from scratch. \n",
    "\n",
    "We use packages because they allow us to modularize our code. That is, we can break our code up into smaller pieces that are easier to understand and maintain. Additionally, packages make it easy to reuse code that we have already written. Finally, packages allow us to share our code with others.\n",
    "\n",
    "Let us understand it with a package named Numpy. Our task is to create a python array(which is similar to lists that you studied in previous part of notebook), which has 100 elements, all with a value of 1."
   ]
  },
  {
   "cell_type": "code",
   "execution_count": null,
   "id": "0b537e1d",
   "metadata": {
    "colab": {
     "base_uri": "https://localhost:8080/"
    },
    "id": "0b537e1d",
    "outputId": "80023024-1c38-4dfe-a385-f236342cddd9"
   },
   "outputs": [
    {
     "name": "stdout",
     "output_type": "stream",
     "text": [
      "[1, 1, 1, 1, 1, 1, 1, 1, 1, 1, 1, 1, 1, 1, 1, 1, 1, 1, 1, 1, 1, 1, 1, 1, 1, 1, 1, 1, 1, 1, 1, 1, 1, 1, 1, 1, 1, 1, 1, 1, 1, 1, 1, 1, 1, 1, 1, 1, 1, 1, 1, 1, 1, 1, 1, 1, 1, 1, 1, 1, 1, 1, 1, 1, 1, 1, 1, 1, 1, 1, 1, 1, 1, 1, 1, 1, 1, 1, 1, 1, 1, 1, 1, 1, 1, 1, 1, 1, 1, 1, 1, 1, 1, 1, 1, 1, 1, 1, 1, 1]\n",
      "100\n",
      "[1. 1. 1. 1. 1. 1. 1. 1. 1. 1. 1. 1. 1. 1. 1. 1. 1. 1. 1. 1. 1. 1. 1. 1.\n",
      " 1. 1. 1. 1. 1. 1. 1. 1. 1. 1. 1. 1. 1. 1. 1. 1. 1. 1. 1. 1. 1. 1. 1. 1.\n",
      " 1. 1. 1. 1. 1. 1. 1. 1. 1. 1. 1. 1. 1. 1. 1. 1. 1. 1. 1. 1. 1. 1. 1. 1.\n",
      " 1. 1. 1. 1. 1. 1. 1. 1. 1. 1. 1. 1. 1. 1. 1. 1. 1. 1. 1. 1. 1. 1. 1. 1.\n",
      " 1. 1. 1. 1.]\n",
      "100\n"
     ]
    }
   ],
   "source": [
    "# Method 1: array1 = [1,1,1,1,1,...1]  You manually type 1 for 100 times\n",
    "\n",
    "# Method 2: \n",
    "array1 = []\n",
    "for i in range(1,101):\n",
    "    array1.append(1)\n",
    "print(array1)\n",
    "print(len(array1))\n",
    "\n",
    "# Method 3: Using Python Packages\n",
    "\n",
    "import numpy as np\n",
    "array2 = np.ones(100)\n",
    "print(array2)\n",
    "print(len(array2))"
   ]
  },
  {
   "cell_type": "markdown",
   "id": "55b9b17d",
   "metadata": {
    "id": "55b9b17d"
   },
   "source": [
    "## How are they useful and make code efficient?\n",
    "\n",
    "Did you just see that?\n",
    "\n",
    "We defined 3 methods to solve our task, and when we used python package named numpy, we literally did our job in one line! Cool, isn't it? \n",
    "\n",
    "Let's see what exactly happened. So the package we used here was **Numpy**, there is a module in numpy called **ones()** which helps us generate array with 1 in it, so we directly used **ones()** and mentioned 100 as our parameter, which gave a resultant array with 100 1s in it.\n",
    "\n",
    "Observe how tedious it would be to do this manually. This is just one of the many things that we could do in a very efficient way. \n",
    "\n",
    "You would be dealing with more such modules in your Bootcamp sessions, so keep observing how our job is made because of these packages. A few popular names that you would come accross is Pandas, Numpy, OpenCV, NLTK, Matplotlib, Tensorflow etc. \n",
    "\n",
    "\n",
    "#### Challenge task \n",
    "***Try importing Pandas and NLTK and use any module from these packages.***"
   ]
  },
  {
   "cell_type": "code",
   "execution_count": 11,
   "id": "f1b8b114",
   "metadata": {
    "id": "f1b8b114"
   },
   "outputs": [
    {
     "name": "stdout",
     "output_type": "stream",
     "text": [
      "Requirement already satisfied: pip in ./lib/python3.9/site-packages (22.3)\n",
      "Collecting pip\n",
      "  Downloading pip-22.3.1-py3-none-any.whl (2.1 MB)\n",
      "\u001b[2K     \u001b[90m━━━━━━━━━━━━━━━━━━━━━━━━━━━━━━━━━━━━━━━━\u001b[0m \u001b[32m2.1/2.1 MB\u001b[0m \u001b[31m8.3 MB/s\u001b[0m eta \u001b[36m0:00:00\u001b[0m00:01\u001b[0m00:01\u001b[0mm\n",
      "\u001b[?25hInstalling collected packages: pip\n",
      "  Attempting uninstall: pip\n",
      "    Found existing installation: pip 22.3\n",
      "    Uninstalling pip-22.3:\n",
      "      Successfully uninstalled pip-22.3\n",
      "Successfully installed pip-22.3.1\n"
     ]
    }
   ],
   "source": [
    "!pip install --upgrade pip"
   ]
  },
  {
   "cell_type": "code",
   "execution_count": 12,
   "id": "39d706bc",
   "metadata": {},
   "outputs": [
    {
     "name": "stdout",
     "output_type": "stream",
     "text": [
      "Collecting nltk\n",
      "  Downloading nltk-3.7-py3-none-any.whl (1.5 MB)\n",
      "\u001b[2K     \u001b[90m━━━━━━━━━━━━━━━━━━━━━━━━━━━━━━━━━━━━━━━━\u001b[0m \u001b[32m1.5/1.5 MB\u001b[0m \u001b[31m8.5 MB/s\u001b[0m eta \u001b[36m0:00:00\u001b[0m00:01\u001b[0m:00:01\u001b[0m\n",
      "\u001b[?25hCollecting click\n",
      "  Downloading click-8.1.3-py3-none-any.whl (96 kB)\n",
      "\u001b[2K     \u001b[90m━━━━━━━━━━━━━━━━━━━━━━━━━━━━━━━━━━━━━━━━\u001b[0m \u001b[32m96.6/96.6 kB\u001b[0m \u001b[31m3.1 MB/s\u001b[0m eta \u001b[36m0:00:00\u001b[0m\n",
      "\u001b[?25hCollecting tqdm\n",
      "  Downloading tqdm-4.64.1-py2.py3-none-any.whl (78 kB)\n",
      "\u001b[2K     \u001b[90m━━━━━━━━━━━━━━━━━━━━━━━━━━━━━━━━━━━━━━━━\u001b[0m \u001b[32m78.5/78.5 kB\u001b[0m \u001b[31m2.5 MB/s\u001b[0m eta \u001b[36m0:00:00\u001b[0m\n",
      "\u001b[?25hCollecting regex>=2021.8.3\n",
      "  Downloading regex-2022.10.31-cp39-cp39-macosx_10_9_x86_64.whl (293 kB)\n",
      "\u001b[2K     \u001b[90m━━━━━━━━━━━━━━━━━━━━━━━━━━━━━━━━━━━━━━━\u001b[0m \u001b[32m293.9/293.9 kB\u001b[0m \u001b[31m4.3 MB/s\u001b[0m eta \u001b[36m0:00:00\u001b[0ma \u001b[36m0:00:01\u001b[0m\n",
      "\u001b[?25hCollecting joblib\n",
      "  Downloading joblib-1.2.0-py3-none-any.whl (297 kB)\n",
      "\u001b[2K     \u001b[90m━━━━━━━━━━━━━━━━━━━━━━━━━━━━━━━━━━━━━━━\u001b[0m \u001b[32m298.0/298.0 kB\u001b[0m \u001b[31m5.2 MB/s\u001b[0m eta \u001b[36m0:00:00\u001b[0m00:01\u001b[0m\n",
      "\u001b[?25hInstalling collected packages: tqdm, regex, joblib, click, nltk\n",
      "Successfully installed click-8.1.3 joblib-1.2.0 nltk-3.7 regex-2022.10.31 tqdm-4.64.1\n"
     ]
    }
   ],
   "source": [
    "!pip install nltk"
   ]
  },
  {
   "cell_type": "code",
   "execution_count": 13,
   "id": "63230cc0",
   "metadata": {},
   "outputs": [
    {
     "name": "stdout",
     "output_type": "stream",
     "text": [
      "Requirement already satisfied: nltk in ./lib/python3.9/site-packages (3.7)\n",
      "Requirement already satisfied: joblib in ./lib/python3.9/site-packages (from nltk) (1.2.0)\n",
      "Requirement already satisfied: tqdm in ./lib/python3.9/site-packages (from nltk) (4.64.1)\n",
      "Requirement already satisfied: click in ./lib/python3.9/site-packages (from nltk) (8.1.3)\n",
      "Requirement already satisfied: regex>=2021.8.3 in ./lib/python3.9/site-packages (from nltk) (2022.10.31)\n"
     ]
    }
   ],
   "source": [
    "!pip install --upgrade nltk"
   ]
  },
  {
   "cell_type": "code",
   "execution_count": 14,
   "id": "e74ca49c",
   "metadata": {},
   "outputs": [],
   "source": [
    "import pandas as pd\n",
    "import nltk"
   ]
  },
  {
   "cell_type": "code",
   "execution_count": null,
   "id": "3fb736b2",
   "metadata": {},
   "outputs": [],
   "source": []
  }
 ],
 "metadata": {
  "colab": {
   "collapsed_sections": [],
   "name": "Introduction to python and concepts.ipynb",
   "provenance": []
  },
  "kernelspec": {
   "display_name": "Python 3 (ipykernel)",
   "language": "python",
   "name": "python3"
  },
  "language_info": {
   "codemirror_mode": {
    "name": "ipython",
    "version": 3
   },
   "file_extension": ".py",
   "mimetype": "text/x-python",
   "name": "python",
   "nbconvert_exporter": "python",
   "pygments_lexer": "ipython3",
   "version": "3.9.7"
  }
 },
 "nbformat": 4,
 "nbformat_minor": 5
}
